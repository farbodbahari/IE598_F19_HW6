{
 "cells": [
  {
   "cell_type": "code",
   "execution_count": 1,
   "metadata": {},
   "outputs": [],
   "source": [
    "#Import Libraries\n",
    "import csv\n",
    "import numpy as np\n",
    "import pandas as pd\n",
    "import matplotlib.pyplot as plt\n",
    "import math\n",
    "import re\n",
    "pd.options.display.max_columns=40\n",
    "\n",
    "### Import Descision Tree Classifier\n",
    "from sklearn.tree import DecisionTreeClassifier\n",
    "from sklearn.model_selection import train_test_split\n",
    "from sklearn.model_selection import cross_val_score\n",
    "from sklearn.model_selection import GridSearchCV\n",
    "from sklearn.metrics import roc_auc_score"
   ]
  },
  {
   "cell_type": "code",
   "execution_count": 2,
   "metadata": {},
   "outputs": [
    {
     "data": {
      "text/plain": [
       "True"
      ]
     },
     "execution_count": 2,
     "metadata": {},
     "output_type": "execute_result"
    }
   ],
   "source": [
    "### Load \n",
    "path_hw6=\"C:\\\\Users\\\\fbaharkoush\\\\IE 598 Machine Learning\\\\Homework\\\\HW 6\\\\\"\n",
    "df_ts=pd.read_csv(path_hw6+\"ccdefault.csv\").drop(\"ID\",axis=1)\n",
    "### Missing Values\n",
    "df_ts.isnull().sum().sum()==0"
   ]
  },
  {
   "cell_type": "code",
   "execution_count": 3,
   "metadata": {
    "scrolled": true
   },
   "outputs": [
    {
     "data": {
      "text/html": [
       "<div>\n",
       "<style scoped>\n",
       "    .dataframe tbody tr th:only-of-type {\n",
       "        vertical-align: middle;\n",
       "    }\n",
       "\n",
       "    .dataframe tbody tr th {\n",
       "        vertical-align: top;\n",
       "    }\n",
       "\n",
       "    .dataframe thead th {\n",
       "        text-align: right;\n",
       "    }\n",
       "</style>\n",
       "<table border=\"1\" class=\"dataframe\">\n",
       "  <thead>\n",
       "    <tr style=\"text-align: right;\">\n",
       "      <th></th>\n",
       "      <th>LIMIT_BAL</th>\n",
       "      <th>SEX</th>\n",
       "      <th>EDUCATION</th>\n",
       "      <th>MARRIAGE</th>\n",
       "      <th>AGE</th>\n",
       "      <th>PAY_0</th>\n",
       "      <th>PAY_2</th>\n",
       "      <th>PAY_3</th>\n",
       "      <th>PAY_4</th>\n",
       "      <th>PAY_5</th>\n",
       "      <th>PAY_6</th>\n",
       "      <th>BILL_AMT1</th>\n",
       "      <th>BILL_AMT2</th>\n",
       "      <th>BILL_AMT3</th>\n",
       "      <th>BILL_AMT4</th>\n",
       "      <th>BILL_AMT5</th>\n",
       "      <th>BILL_AMT6</th>\n",
       "      <th>PAY_AMT1</th>\n",
       "      <th>PAY_AMT2</th>\n",
       "      <th>PAY_AMT3</th>\n",
       "      <th>PAY_AMT4</th>\n",
       "      <th>PAY_AMT5</th>\n",
       "      <th>PAY_AMT6</th>\n",
       "      <th>DEFAULT</th>\n",
       "    </tr>\n",
       "  </thead>\n",
       "  <tbody>\n",
       "    <tr>\n",
       "      <th>0</th>\n",
       "      <td>20000</td>\n",
       "      <td>2</td>\n",
       "      <td>2</td>\n",
       "      <td>1</td>\n",
       "      <td>24</td>\n",
       "      <td>2</td>\n",
       "      <td>2</td>\n",
       "      <td>-1</td>\n",
       "      <td>-1</td>\n",
       "      <td>-2</td>\n",
       "      <td>-2</td>\n",
       "      <td>3913</td>\n",
       "      <td>3102</td>\n",
       "      <td>689</td>\n",
       "      <td>0</td>\n",
       "      <td>0</td>\n",
       "      <td>0</td>\n",
       "      <td>0</td>\n",
       "      <td>689</td>\n",
       "      <td>0</td>\n",
       "      <td>0</td>\n",
       "      <td>0</td>\n",
       "      <td>0</td>\n",
       "      <td>1</td>\n",
       "    </tr>\n",
       "    <tr>\n",
       "      <th>1</th>\n",
       "      <td>120000</td>\n",
       "      <td>2</td>\n",
       "      <td>2</td>\n",
       "      <td>2</td>\n",
       "      <td>26</td>\n",
       "      <td>-1</td>\n",
       "      <td>2</td>\n",
       "      <td>0</td>\n",
       "      <td>0</td>\n",
       "      <td>0</td>\n",
       "      <td>2</td>\n",
       "      <td>2682</td>\n",
       "      <td>1725</td>\n",
       "      <td>2682</td>\n",
       "      <td>3272</td>\n",
       "      <td>3455</td>\n",
       "      <td>3261</td>\n",
       "      <td>0</td>\n",
       "      <td>1000</td>\n",
       "      <td>1000</td>\n",
       "      <td>1000</td>\n",
       "      <td>0</td>\n",
       "      <td>2000</td>\n",
       "      <td>1</td>\n",
       "    </tr>\n",
       "    <tr>\n",
       "      <th>2</th>\n",
       "      <td>90000</td>\n",
       "      <td>2</td>\n",
       "      <td>2</td>\n",
       "      <td>2</td>\n",
       "      <td>34</td>\n",
       "      <td>0</td>\n",
       "      <td>0</td>\n",
       "      <td>0</td>\n",
       "      <td>0</td>\n",
       "      <td>0</td>\n",
       "      <td>0</td>\n",
       "      <td>29239</td>\n",
       "      <td>14027</td>\n",
       "      <td>13559</td>\n",
       "      <td>14331</td>\n",
       "      <td>14948</td>\n",
       "      <td>15549</td>\n",
       "      <td>1518</td>\n",
       "      <td>1500</td>\n",
       "      <td>1000</td>\n",
       "      <td>1000</td>\n",
       "      <td>1000</td>\n",
       "      <td>5000</td>\n",
       "      <td>0</td>\n",
       "    </tr>\n",
       "    <tr>\n",
       "      <th>3</th>\n",
       "      <td>50000</td>\n",
       "      <td>2</td>\n",
       "      <td>2</td>\n",
       "      <td>1</td>\n",
       "      <td>37</td>\n",
       "      <td>0</td>\n",
       "      <td>0</td>\n",
       "      <td>0</td>\n",
       "      <td>0</td>\n",
       "      <td>0</td>\n",
       "      <td>0</td>\n",
       "      <td>46990</td>\n",
       "      <td>48233</td>\n",
       "      <td>49291</td>\n",
       "      <td>28314</td>\n",
       "      <td>28959</td>\n",
       "      <td>29547</td>\n",
       "      <td>2000</td>\n",
       "      <td>2019</td>\n",
       "      <td>1200</td>\n",
       "      <td>1100</td>\n",
       "      <td>1069</td>\n",
       "      <td>1000</td>\n",
       "      <td>0</td>\n",
       "    </tr>\n",
       "    <tr>\n",
       "      <th>4</th>\n",
       "      <td>50000</td>\n",
       "      <td>1</td>\n",
       "      <td>2</td>\n",
       "      <td>1</td>\n",
       "      <td>57</td>\n",
       "      <td>-1</td>\n",
       "      <td>0</td>\n",
       "      <td>-1</td>\n",
       "      <td>0</td>\n",
       "      <td>0</td>\n",
       "      <td>0</td>\n",
       "      <td>8617</td>\n",
       "      <td>5670</td>\n",
       "      <td>35835</td>\n",
       "      <td>20940</td>\n",
       "      <td>19146</td>\n",
       "      <td>19131</td>\n",
       "      <td>2000</td>\n",
       "      <td>36681</td>\n",
       "      <td>10000</td>\n",
       "      <td>9000</td>\n",
       "      <td>689</td>\n",
       "      <td>679</td>\n",
       "      <td>0</td>\n",
       "    </tr>\n",
       "  </tbody>\n",
       "</table>\n",
       "</div>"
      ],
      "text/plain": [
       "   LIMIT_BAL  SEX  EDUCATION  MARRIAGE  AGE  PAY_0  PAY_2  PAY_3  PAY_4  \\\n",
       "0      20000    2          2         1   24      2      2     -1     -1   \n",
       "1     120000    2          2         2   26     -1      2      0      0   \n",
       "2      90000    2          2         2   34      0      0      0      0   \n",
       "3      50000    2          2         1   37      0      0      0      0   \n",
       "4      50000    1          2         1   57     -1      0     -1      0   \n",
       "\n",
       "   PAY_5  PAY_6  BILL_AMT1  BILL_AMT2  BILL_AMT3  BILL_AMT4  BILL_AMT5  \\\n",
       "0     -2     -2       3913       3102        689          0          0   \n",
       "1      0      2       2682       1725       2682       3272       3455   \n",
       "2      0      0      29239      14027      13559      14331      14948   \n",
       "3      0      0      46990      48233      49291      28314      28959   \n",
       "4      0      0       8617       5670      35835      20940      19146   \n",
       "\n",
       "   BILL_AMT6  PAY_AMT1  PAY_AMT2  PAY_AMT3  PAY_AMT4  PAY_AMT5  PAY_AMT6  \\\n",
       "0          0         0       689         0         0         0         0   \n",
       "1       3261         0      1000      1000      1000         0      2000   \n",
       "2      15549      1518      1500      1000      1000      1000      5000   \n",
       "3      29547      2000      2019      1200      1100      1069      1000   \n",
       "4      19131      2000     36681     10000      9000       689       679   \n",
       "\n",
       "   DEFAULT  \n",
       "0        1  \n",
       "1        1  \n",
       "2        0  \n",
       "3        0  \n",
       "4        0  "
      ]
     },
     "execution_count": 3,
     "metadata": {},
     "output_type": "execute_result"
    }
   ],
   "source": [
    "df_ts.head()"
   ]
  },
  {
   "cell_type": "code",
   "execution_count": 4,
   "metadata": {},
   "outputs": [],
   "source": [
    "## Values\n",
    "X=df_ts.drop(\"DEFAULT\",axis=1).values\n",
    "#y=df_ts[\"squeeze\"].values\n",
    "y=df_ts[\"DEFAULT\"].values"
   ]
  },
  {
   "cell_type": "markdown",
   "metadata": {},
   "source": [
    "### Part 1: Random test train splits\n",
    "###### Fit the Model for 10 different samples by changing random_state from 1 to 10 in sequence. "
   ]
  },
  {
   "cell_type": "code",
   "execution_count": 5,
   "metadata": {},
   "outputs": [],
   "source": [
    "list_of_models_score_dt_test=[]\n",
    "list_of_models_score_dt_train=[]\n",
    "list_of_y_pred_dt_test=[]\n",
    "list_of_y_pred_dt_train=[]\n",
    "list_of_roc_test=[]\n",
    "list_of_roc_dt_train=[]\n",
    "list_of_random_state=[]\n",
    "for i in range(1,11):\n",
    "    ### Create the Model\n",
    "    Decision_Tree=DecisionTreeClassifier(max_depth=4)\n",
    "    ### Split the data\n",
    "    X_train, X_test, y_train, y_test = train_test_split(X, y, test_size = .1, random_state=i,  stratify=y)\n",
    "    ### Fit values to the model\n",
    "    Decision_Tree.fit(X_train,y_train)\n",
    "    \n",
    "    ### Prediction test\n",
    "    y_pred_dt_test=Decision_Tree.predict(X_test)\n",
    "    ### Prediction train\n",
    "    y_pred_dt_train=Decision_Tree.predict(X_train)\n",
    "    \n",
    "    ### Store the prediction of each model\n",
    "    #list_of_y_pred_dt_test.append(y_pred_dt_test)\n",
    "    #list_of_y_pred_dt_train.append(y_pred_dt_train)\n",
    "    \n",
    "    #### Evaluate the score of each model\n",
    "    dt_model_score_train=Decision_Tree.score(X_train,y_train)\n",
    "    dt_model_score_test=Decision_Tree.score(X_test,y_test)\n",
    "    \n",
    "    ### ROC score\n",
    "    list_of_roc_dt_train.append(roc_auc_score(y_train,y_pred_dt_train))\n",
    "    list_of_roc_test.append(roc_auc_score(y_test,y_pred_dt_test))\n",
    "    \n",
    "    ### Store the Scores of each model\n",
    "    list_of_models_score_dt_train.append(dt_model_score_train)\n",
    "    list_of_models_score_dt_test.append(dt_model_score_test)\n",
    "    ### Store Neghbour Number\n",
    "    list_of_random_state.append(i)"
   ]
  },
  {
   "cell_type": "markdown",
   "metadata": {},
   "source": [
    "### Report performance"
   ]
  },
  {
   "cell_type": "code",
   "execution_count": 6,
   "metadata": {
    "scrolled": false
   },
   "outputs": [
    {
     "data": {
      "text/html": [
       "<div>\n",
       "<style scoped>\n",
       "    .dataframe tbody tr th:only-of-type {\n",
       "        vertical-align: middle;\n",
       "    }\n",
       "\n",
       "    .dataframe tbody tr th {\n",
       "        vertical-align: top;\n",
       "    }\n",
       "\n",
       "    .dataframe thead th {\n",
       "        text-align: right;\n",
       "    }\n",
       "</style>\n",
       "<table border=\"1\" class=\"dataframe\">\n",
       "  <thead>\n",
       "    <tr style=\"text-align: right;\">\n",
       "      <th></th>\n",
       "      <th>Random_State</th>\n",
       "      <th>DT Model Accuracy% Train</th>\n",
       "      <th>DT Model Accuracy% Test</th>\n",
       "      <th>DT Model ROC Score Train</th>\n",
       "      <th>DT Model ROC Score Test</th>\n",
       "    </tr>\n",
       "  </thead>\n",
       "  <tbody>\n",
       "    <tr>\n",
       "      <th>0</th>\n",
       "      <td>1</td>\n",
       "      <td>0.822556</td>\n",
       "      <td>0.828333</td>\n",
       "      <td>0.661102</td>\n",
       "      <td>0.669869</td>\n",
       "    </tr>\n",
       "    <tr>\n",
       "      <th>6</th>\n",
       "      <td>7</td>\n",
       "      <td>0.823259</td>\n",
       "      <td>0.825333</td>\n",
       "      <td>0.660535</td>\n",
       "      <td>0.664170</td>\n",
       "    </tr>\n",
       "    <tr>\n",
       "      <th>1</th>\n",
       "      <td>2</td>\n",
       "      <td>0.822593</td>\n",
       "      <td>0.824000</td>\n",
       "      <td>0.661366</td>\n",
       "      <td>0.662774</td>\n",
       "    </tr>\n",
       "    <tr>\n",
       "      <th>9</th>\n",
       "      <td>10</td>\n",
       "      <td>0.823778</td>\n",
       "      <td>0.820667</td>\n",
       "      <td>0.661467</td>\n",
       "      <td>0.658478</td>\n",
       "    </tr>\n",
       "    <tr>\n",
       "      <th>5</th>\n",
       "      <td>6</td>\n",
       "      <td>0.823889</td>\n",
       "      <td>0.819000</td>\n",
       "      <td>0.660160</td>\n",
       "      <td>0.656330</td>\n",
       "    </tr>\n",
       "    <tr>\n",
       "      <th>4</th>\n",
       "      <td>5</td>\n",
       "      <td>0.823148</td>\n",
       "      <td>0.818000</td>\n",
       "      <td>0.661842</td>\n",
       "      <td>0.655688</td>\n",
       "    </tr>\n",
       "    <tr>\n",
       "      <th>3</th>\n",
       "      <td>4</td>\n",
       "      <td>0.823852</td>\n",
       "      <td>0.820333</td>\n",
       "      <td>0.661815</td>\n",
       "      <td>0.654491</td>\n",
       "    </tr>\n",
       "    <tr>\n",
       "      <th>2</th>\n",
       "      <td>3</td>\n",
       "      <td>0.824111</td>\n",
       "      <td>0.817333</td>\n",
       "      <td>0.661442</td>\n",
       "      <td>0.644480</td>\n",
       "    </tr>\n",
       "    <tr>\n",
       "      <th>8</th>\n",
       "      <td>9</td>\n",
       "      <td>0.823852</td>\n",
       "      <td>0.817333</td>\n",
       "      <td>0.655280</td>\n",
       "      <td>0.641246</td>\n",
       "    </tr>\n",
       "    <tr>\n",
       "      <th>7</th>\n",
       "      <td>8</td>\n",
       "      <td>0.823778</td>\n",
       "      <td>0.816667</td>\n",
       "      <td>0.651396</td>\n",
       "      <td>0.639201</td>\n",
       "    </tr>\n",
       "  </tbody>\n",
       "</table>\n",
       "</div>"
      ],
      "text/plain": [
       "   Random_State  DT Model Accuracy% Train  DT Model Accuracy% Test  \\\n",
       "0             1                  0.822556                 0.828333   \n",
       "6             7                  0.823259                 0.825333   \n",
       "1             2                  0.822593                 0.824000   \n",
       "9            10                  0.823778                 0.820667   \n",
       "5             6                  0.823889                 0.819000   \n",
       "4             5                  0.823148                 0.818000   \n",
       "3             4                  0.823852                 0.820333   \n",
       "2             3                  0.824111                 0.817333   \n",
       "8             9                  0.823852                 0.817333   \n",
       "7             8                  0.823778                 0.816667   \n",
       "\n",
       "   DT Model ROC Score Train  DT Model ROC Score Test  \n",
       "0                  0.661102                 0.669869  \n",
       "6                  0.660535                 0.664170  \n",
       "1                  0.661366                 0.662774  \n",
       "9                  0.661467                 0.658478  \n",
       "5                  0.660160                 0.656330  \n",
       "4                  0.661842                 0.655688  \n",
       "3                  0.661815                 0.654491  \n",
       "2                  0.661442                 0.644480  \n",
       "8                  0.655280                 0.641246  \n",
       "7                  0.651396                 0.639201  "
      ]
     },
     "execution_count": 6,
     "metadata": {},
     "output_type": "execute_result"
    }
   ],
   "source": [
    "df_dt_performance=pd.DataFrame({\"Random_State\":list_of_random_state,\n",
    "              \"DT Model Accuracy% Train\":list_of_models_score_dt_train,\n",
    "             \"DT Model Accuracy% Test\":list_of_models_score_dt_test,\n",
    "            \"DT Model ROC Score Train\":list_of_roc_dt_train,\n",
    "            \"DT Model ROC Score Test\":list_of_roc_test})\n",
    "df_dt_performance.sort_values(\"DT Model ROC Score Test\",ascending=False)"
   ]
  },
  {
   "cell_type": "code",
   "execution_count": 7,
   "metadata": {
    "scrolled": true
   },
   "outputs": [
    {
     "data": {
      "text/html": [
       "<div>\n",
       "<style scoped>\n",
       "    .dataframe tbody tr th:only-of-type {\n",
       "        vertical-align: middle;\n",
       "    }\n",
       "\n",
       "    .dataframe tbody tr th {\n",
       "        vertical-align: top;\n",
       "    }\n",
       "\n",
       "    .dataframe thead th {\n",
       "        text-align: right;\n",
       "    }\n",
       "</style>\n",
       "<table border=\"1\" class=\"dataframe\">\n",
       "  <thead>\n",
       "    <tr style=\"text-align: right;\">\n",
       "      <th></th>\n",
       "      <th>Random_State</th>\n",
       "      <th>DT Model Accuracy% Train</th>\n",
       "      <th>DT Model Accuracy% Test</th>\n",
       "      <th>DT Model ROC Score Train</th>\n",
       "      <th>DT Model ROC Score Test</th>\n",
       "    </tr>\n",
       "  </thead>\n",
       "  <tbody>\n",
       "    <tr>\n",
       "      <th>count</th>\n",
       "      <td>10.00000</td>\n",
       "      <td>10.000000</td>\n",
       "      <td>10.000000</td>\n",
       "      <td>10.000000</td>\n",
       "      <td>10.000000</td>\n",
       "    </tr>\n",
       "    <tr>\n",
       "      <th>mean</th>\n",
       "      <td>5.50000</td>\n",
       "      <td>0.823481</td>\n",
       "      <td>0.820700</td>\n",
       "      <td>0.659641</td>\n",
       "      <td>0.654673</td>\n",
       "    </tr>\n",
       "    <tr>\n",
       "      <th>std</th>\n",
       "      <td>3.02765</td>\n",
       "      <td>0.000560</td>\n",
       "      <td>0.003942</td>\n",
       "      <td>0.003485</td>\n",
       "      <td>0.010157</td>\n",
       "    </tr>\n",
       "    <tr>\n",
       "      <th>min</th>\n",
       "      <td>1.00000</td>\n",
       "      <td>0.822556</td>\n",
       "      <td>0.816667</td>\n",
       "      <td>0.651396</td>\n",
       "      <td>0.639201</td>\n",
       "    </tr>\n",
       "    <tr>\n",
       "      <th>25%</th>\n",
       "      <td>3.25000</td>\n",
       "      <td>0.823176</td>\n",
       "      <td>0.817500</td>\n",
       "      <td>0.660254</td>\n",
       "      <td>0.646983</td>\n",
       "    </tr>\n",
       "    <tr>\n",
       "      <th>50%</th>\n",
       "      <td>5.50000</td>\n",
       "      <td>0.823778</td>\n",
       "      <td>0.819667</td>\n",
       "      <td>0.661234</td>\n",
       "      <td>0.656009</td>\n",
       "    </tr>\n",
       "    <tr>\n",
       "      <th>75%</th>\n",
       "      <td>7.75000</td>\n",
       "      <td>0.823852</td>\n",
       "      <td>0.823167</td>\n",
       "      <td>0.661461</td>\n",
       "      <td>0.661700</td>\n",
       "    </tr>\n",
       "    <tr>\n",
       "      <th>max</th>\n",
       "      <td>10.00000</td>\n",
       "      <td>0.824111</td>\n",
       "      <td>0.828333</td>\n",
       "      <td>0.661842</td>\n",
       "      <td>0.669869</td>\n",
       "    </tr>\n",
       "  </tbody>\n",
       "</table>\n",
       "</div>"
      ],
      "text/plain": [
       "       Random_State  DT Model Accuracy% Train  DT Model Accuracy% Test  \\\n",
       "count      10.00000                 10.000000                10.000000   \n",
       "mean        5.50000                  0.823481                 0.820700   \n",
       "std         3.02765                  0.000560                 0.003942   \n",
       "min         1.00000                  0.822556                 0.816667   \n",
       "25%         3.25000                  0.823176                 0.817500   \n",
       "50%         5.50000                  0.823778                 0.819667   \n",
       "75%         7.75000                  0.823852                 0.823167   \n",
       "max        10.00000                  0.824111                 0.828333   \n",
       "\n",
       "       DT Model ROC Score Train  DT Model ROC Score Test  \n",
       "count                 10.000000                10.000000  \n",
       "mean                   0.659641                 0.654673  \n",
       "std                    0.003485                 0.010157  \n",
       "min                    0.651396                 0.639201  \n",
       "25%                    0.660254                 0.646983  \n",
       "50%                    0.661234                 0.656009  \n",
       "75%                    0.661461                 0.661700  \n",
       "max                    0.661842                 0.669869  "
      ]
     },
     "execution_count": 7,
     "metadata": {},
     "output_type": "execute_result"
    }
   ],
   "source": [
    "df_dt_performance.describe()"
   ]
  },
  {
   "cell_type": "markdown",
   "metadata": {},
   "source": [
    "### Part 2: Cross validation"
   ]
  },
  {
   "cell_type": "code",
   "execution_count": 8,
   "metadata": {},
   "outputs": [],
   "source": [
    "X_train, X_test, y_train, y_test=train_test_split(X, y, test_size = .1, random_state=4)"
   ]
  },
  {
   "cell_type": "code",
   "execution_count": 9,
   "metadata": {},
   "outputs": [],
   "source": [
    "dt=DecisionTreeClassifier()\n",
    "CV_ROC_Scores=cross_val_score(dt,X_train,y_train,cv=10,scoring='roc_auc',n_jobs=-1)"
   ]
  },
  {
   "cell_type": "code",
   "execution_count": 10,
   "metadata": {},
   "outputs": [
    {
     "name": "stdout",
     "output_type": "stream",
     "text": [
      "ROC_AUC Score of 10-folds [0.65005777 0.60603264 0.6173527  0.60433074 0.60929052 0.58796656\n",
      " 0.61783752 0.62469064 0.6125184  0.62043683] \n",
      "\n",
      "Average ROC_AUC Score of 10-folds 0.6150514312168099 \n",
      "\n",
      "Average ROC_AUC Score of Random test train splits 0.65467280079221\n"
     ]
    }
   ],
   "source": [
    "print(\"ROC_AUC Score of 10-folds\",CV_ROC_Scores,\"\\n\")\n",
    "print(\"Average ROC_AUC Score of 10-folds\",np.mean(CV_ROC_Scores),\"\\n\")\n",
    "print(\"Average ROC_AUC Score of Random test train splits\",np.mean(df_dt_performance[\"DT Model ROC Score Test\"]))"
   ]
  },
  {
   "cell_type": "markdown",
   "metadata": {},
   "source": [
    "### Conclusion"
   ]
  },
  {
   "cell_type": "markdown",
   "metadata": {},
   "source": [
    "Average ROC_AUC Score of 10-folds is less than ROC_AUC Score of Random test train splits CV is said to overfit the training set. To remedy overfitting: 1. derease complexity of the model such as decreasing max mdepth, increasing min samples per leaf and gather mode data."
   ]
  },
  {
   "cell_type": "markdown",
   "metadata": {},
   "source": [
    "### Part 2: Cross validation\n",
    "Grid Search"
   ]
  },
  {
   "cell_type": "code",
   "execution_count": 11,
   "metadata": {},
   "outputs": [],
   "source": [
    "X_train, X_test, y_train, y_test=train_test_split(X, y, test_size = .1, random_state=4)"
   ]
  },
  {
   "cell_type": "code",
   "execution_count": 12,
   "metadata": {},
   "outputs": [],
   "source": [
    "tree_parameters = {'criterion':['gini','entropy'],'max_depth':[1,2,3,4,5,6,7,8,9,10]}"
   ]
  },
  {
   "cell_type": "code",
   "execution_count": 13,
   "metadata": {
    "scrolled": true
   },
   "outputs": [],
   "source": [
    "clf_decision_tree=GridSearchCV(DecisionTreeClassifier(), tree_parameters, cv=10)\n",
    "#clf_decision_tree.fit(X, y)"
   ]
  },
  {
   "cell_type": "code",
   "execution_count": 14,
   "metadata": {},
   "outputs": [
    {
     "data": {
      "text/plain": [
       "GridSearchCV(cv=10, error_score='raise-deprecating',\n",
       "             estimator=DecisionTreeClassifier(class_weight=None,\n",
       "                                              criterion='gini', max_depth=None,\n",
       "                                              max_features=None,\n",
       "                                              max_leaf_nodes=None,\n",
       "                                              min_impurity_decrease=0.0,\n",
       "                                              min_impurity_split=None,\n",
       "                                              min_samples_leaf=1,\n",
       "                                              min_samples_split=2,\n",
       "                                              min_weight_fraction_leaf=0.0,\n",
       "                                              presort=False, random_state=None,\n",
       "                                              splitter='best'),\n",
       "             iid='warn', n_jobs=None,\n",
       "             param_grid={'criterion': ['gini', 'entropy'],\n",
       "                         'max_depth': [1, 2, 3, 4, 5, 6, 7, 8, 9, 10]},\n",
       "             pre_dispatch='2*n_jobs', refit=True, return_train_score=False,\n",
       "             scoring=None, verbose=0)"
      ]
     },
     "execution_count": 14,
     "metadata": {},
     "output_type": "execute_result"
    }
   ],
   "source": [
    "clf_decision_tree.fit(X_train, y_train)"
   ]
  },
  {
   "cell_type": "code",
   "execution_count": 15,
   "metadata": {},
   "outputs": [
    {
     "name": "stdout",
     "output_type": "stream",
     "text": [
      "clf_decision_tree best score is 0.8224814814814815\n",
      "clf_decision_tree best score paramteres are: \n",
      " \n",
      " DecisionTreeClassifier(class_weight=None, criterion='entropy', max_depth=4,\n",
      "                       max_features=None, max_leaf_nodes=None,\n",
      "                       min_impurity_decrease=0.0, min_impurity_split=None,\n",
      "                       min_samples_leaf=1, min_samples_split=2,\n",
      "                       min_weight_fraction_leaf=0.0, presort=False,\n",
      "                       random_state=None, splitter='best')\n"
     ]
    }
   ],
   "source": [
    "print(\"clf_decision_tree best score is\" , clf_decision_tree.best_score_)\n",
    "print(\"clf_decision_tree best score paramteres are: \\n \\n\" , clf_decision_tree.best_estimator_)"
   ]
  },
  {
   "cell_type": "code",
   "execution_count": 16,
   "metadata": {},
   "outputs": [],
   "source": [
    "y_pred_clf_dt_train=clf_decision_tree.predict(X_train)\n",
    "y_pred_clf_dt_test=clf_decision_tree.predict(X_test)"
   ]
  },
  {
   "cell_type": "code",
   "execution_count": 17,
   "metadata": {},
   "outputs": [
    {
     "name": "stdout",
     "output_type": "stream",
     "text": [
      "ROC Score of GirdSearch Classifier on Training set 0.662724094598382\n",
      "ROC Score of GirdSearch Classifier on test set 0.6464423610713496 \n",
      "\n",
      "   Random_State  DT Model ROC Score Train  DT Model ROC Score Test\n",
      "0             1                  0.661102                 0.669869\n"
     ]
    }
   ],
   "source": [
    "print(\"ROC Score of GirdSearch Classifier on Training set\",roc_auc_score(y_train,y_pred_clf_dt_train))\n",
    "print(\"ROC Score of GirdSearch Classifier on test set\",roc_auc_score(y_test,y_pred_clf_dt_test),\"\\n\")\n",
    "print(df_dt_performance.sort_values(\"DT Model ROC Score Test\",\n",
    "                              ascending=False).head(1).drop([\n",
    "    \"DT Model Accuracy% Train\",\"DT Model Accuracy% Test\"],axis=1))"
   ]
  },
  {
   "cell_type": "markdown",
   "metadata": {},
   "source": [
    "### Final conclusion"
   ]
  },
  {
   "cell_type": "markdown",
   "metadata": {},
   "source": [
    "As the result show after performin grid search the ROC score of the model is not significantly improving. \n",
    "we most likely need more data to biuld a more robust model. On the other hand other classification methods such as Logistic Regression or Elastic Regression should be fitted and evaluated. They may produce better ROC.\n",
    "At this point Random test train splits is the most efficient approch and it is doing as good as other models fitted."
   ]
  },
  {
   "cell_type": "code",
   "execution_count": null,
   "metadata": {},
   "outputs": [],
   "source": []
  },
  {
   "cell_type": "code",
   "execution_count": null,
   "metadata": {},
   "outputs": [],
   "source": []
  },
  {
   "cell_type": "code",
   "execution_count": null,
   "metadata": {},
   "outputs": [],
   "source": []
  }
 ],
 "metadata": {
  "kernelspec": {
   "display_name": "Python 3",
   "language": "python",
   "name": "python3"
  },
  "language_info": {
   "codemirror_mode": {
    "name": "ipython",
    "version": 3
   },
   "file_extension": ".py",
   "mimetype": "text/x-python",
   "name": "python",
   "nbconvert_exporter": "python",
   "pygments_lexer": "ipython3",
   "version": "3.7.3"
  }
 },
 "nbformat": 4,
 "nbformat_minor": 2
}
